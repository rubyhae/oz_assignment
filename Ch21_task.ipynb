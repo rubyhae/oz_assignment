{
  "cells": [
    {
      "cell_type": "markdown",
      "metadata": {
        "id": "Bo7YXlVYxBoe"
      },
      "source": [
        "사용자로부터 이름과 나이를 입력 받아, \"안녕하세요, [이름]님! 당신은 [나이]살입니다.\"라고 출력하는 함수 greet_user를 작성하세요."
      ]
    },
    {
      "cell_type": "code",
      "source": [
        "def greet_user():\n",
        "    print(f'안녕하세요, {name}님! 당신은 {age}살입니다.')\n",
        "\n"
      ],
      "metadata": {
        "id": "1cGTSZJYxLQq"
      },
      "execution_count": null,
      "outputs": []
    },
    {
      "cell_type": "markdown",
      "metadata": {
        "id": "VyAF0z9YxBof"
      },
      "source": [
        "여러 숫자를 입력받아 그 합계를 반환하는 함수 sum_numbers를 작성하세요. 이 때, 가변 매개변수를 사용하세요."
      ]
    },
    {
      "cell_type": "code",
      "source": [
        "def sum_numbers(*numbers):\n",
        "    return sum(numbers)"
      ],
      "metadata": {
        "id": "wHCviJzhxg_a"
      },
      "execution_count": null,
      "outputs": []
    },
    {
      "cell_type": "markdown",
      "source": [
        "사용자의 이름을 출력하는 함수 print_name을 작성하세요. 만약 이름이 주어지지 않았다면, 기본값으로 \"익명\"을 사용하세요."
      ],
      "metadata": {
        "id": "4368CpMQxqJ5"
      }
    },
    {
      "cell_type": "code",
      "source": [
        "def print_name(name=\"익명\"):\n",
        "    print(name)"
      ],
      "metadata": {
        "id": "sdavW-_AxsuE"
      },
      "execution_count": null,
      "outputs": []
    },
    {
      "cell_type": "markdown",
      "source": [
        "사용자의 이름, 나이, 성별을 출력하는 함수 print_info를 작성하세요. 이 때, 모든 매개변수는 키워드 매개변수로만 받도록 하세요."
      ],
      "metadata": {
        "id": "ZoUBkKmsx2ah"
      }
    },
    {
      "cell_type": "code",
      "source": [
        "def print_info(name, age, gender):\n",
        "    print(f'{name}')"
      ],
      "metadata": {
        "id": "o0Zihfiwx4jK"
      },
      "execution_count": null,
      "outputs": []
    },
    {
      "cell_type": "markdown",
      "source": [
        "두 개의 정수를 받아 합을 반환하는 함수 add를 작성하세요. 매개변수와 반환값에 타입 어노테이션을 추가하세요."
      ],
      "metadata": {
        "id": "s6JSrzXUyWA4"
      }
    },
    {
      "cell_type": "code",
      "source": [
        "def add(a:int, b:int) -> int:\n",
        "    return a+b\n",
        "\n",
        "print(add(4, 2))"
      ],
      "metadata": {
        "colab": {
          "base_uri": "https://localhost:8080/"
        },
        "id": "UAaD9DzayYfC",
        "outputId": "8fdba9b1-bad2-47db-e4ea-051d0110ae1c"
      },
      "execution_count": 2,
      "outputs": [
        {
          "output_type": "stream",
          "name": "stdout",
          "text": [
            "6\n"
          ]
        }
      ]
    },
    {
      "cell_type": "markdown",
      "source": [
        "0부터 시작하여 n까지의 숫자 중에서 홀수만 생성하는 제너레이터 odd_numbers를 작성하세요."
      ],
      "metadata": {
        "id": "xtYuuMj8yonf"
      }
    },
    {
      "cell_type": "code",
      "source": [
        "def odd_numbers(n):\n",
        "    for i in range(n):\n",
        "        if i % 2 != 0:\n",
        "            yield i"
      ],
      "metadata": {
        "id": "orOtGOXgyrRP"
      },
      "execution_count": null,
      "outputs": []
    },
    {
      "cell_type": "markdown",
      "source": [
        "두 숫자를 더하는 람다 함수를 작성하고, 이를 변수에 할당한 후 사용하세요."
      ],
      "metadata": {
        "id": "nFo5-AVv0hYe"
      }
    },
    {
      "cell_type": "code",
      "source": [
        "add = lambda x, y: x+y\n",
        "\n",
        "print(add(7,2))"
      ],
      "metadata": {
        "colab": {
          "base_uri": "https://localhost:8080/"
        },
        "id": "ZRG15c1G0iBM",
        "outputId": "2148d492-2a67-4cfd-98b0-930b2704913e"
      },
      "execution_count": 4,
      "outputs": [
        {
          "output_type": "stream",
          "name": "stdout",
          "text": [
            "9\n"
          ]
        }
      ]
    },
    {
      "cell_type": "markdown",
      "source": [
        "사용자로부터 3개의 숫자를 입력받아, 이를 튜플로 만든 후 최소값과 최대값을 출력하는 함수 min_max를 작성하세요."
      ],
      "metadata": {
        "id": "ETOw6gNG03Un"
      }
    },
    {
      "cell_type": "code",
      "source": [
        "def min_max(*numbers):\n",
        "    numbers = tuple(numbers)\n",
        "    print(f'최소값: {min(numbers)}')\n",
        "    print(f'최대값: {max(numbers)}')"
      ],
      "metadata": {
        "id": "5OJ_VmUm06ck"
      },
      "execution_count": null,
      "outputs": []
    }
  ],
  "metadata": {
    "language_info": {
      "name": "python"
    },
    "colab": {
      "provenance": []
    },
    "kernelspec": {
      "name": "python3",
      "display_name": "Python 3"
    }
  },
  "nbformat": 4,
  "nbformat_minor": 0
}