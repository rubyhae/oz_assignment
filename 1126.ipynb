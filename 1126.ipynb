{
  "nbformat": 4,
  "nbformat_minor": 0,
  "metadata": {
    "colab": {
      "provenance": [],
      "authorship_tag": "ABX9TyPkg3R4rD+rdJLVrVCedDQx"
    },
    "kernelspec": {
      "name": "python3",
      "display_name": "Python 3"
    },
    "language_info": {
      "name": "python"
    }
  },
  "cells": [
    {
      "cell_type": "markdown",
      "source": [
        "사용자로부터 두 개의 숫자를 입력받아 나눗셈을 수행하는 프로그램을 작성하세요.\n",
        "\n",
        "[예외처리]\n",
        "- 입력 값이 숫자가 아닐 때 발생할 수 있는 ValueError\n",
        "- 나누는 수가 0일 때 발생할 수 있는 ZeroDivisionError\n",
        "- 위 2가지 예외처리 후 사용자에게 이해하기 쉬운 메시지 작성 후 출력되도록 코드를 작성"
      ],
      "metadata": {
        "id": "iB3ureu9TmRK"
      }
    },
    {
      "cell_type": "code",
      "source": [
        "def divide_numbers():\n",
        "    try:\n",
        "        num1 = int(input(\"첫 번째 숫자를 입력하세요: \"))\n",
        "        num2 = int(input(\"두 번째 숫자를 입력하세요: \"))\n",
        "        result = num1 / num2\n",
        "        print(f\"{num1} / {num2} = {result}\")\n",
        "    except ZeroDivisionError:\n",
        "        print(\"나누는 수가 0입니다. 다른 숫자를 입력하세요.\")\n",
        "    except ValueError:\n",
        "        print(\"입력 값이 숫자가 아닙니다. 숫자를 입력하세요.\")\n",
        "\n",
        "divide_numbers()"
      ],
      "metadata": {
        "colab": {
          "base_uri": "https://localhost:8080/"
        },
        "id": "ktdkIVKJTqwK",
        "outputId": "32b81467-b171-40e9-960c-3d74e963ecaa"
      },
      "execution_count": 2,
      "outputs": [
        {
          "output_type": "stream",
          "name": "stdout",
          "text": [
            "첫 번째 숫자를 입력하세요: 19\n",
            "두 번째 숫자를 입력하세요: 3\n",
            "19.0 / 3.0 = 6.333333333333333\n"
          ]
        }
      ]
    },
    {
      "cell_type": "markdown",
      "source": [
        "파일을 읽어서 내용을 출력하는 프로그램을 작성하세요.\n",
        "\n",
        "- 파일이 존재하지 않을 때 발생하는 FileNotFoundError를 처리\n",
        "- 파일이 존재하지 않을 경우 \"파일을 찾을 수 없습니다.\"라는 메시지를 출력"
      ],
      "metadata": {
        "id": "rl_kbJiXUWbn"
      }
    },
    {
      "cell_type": "code",
      "source": [
        "def read_file():\n",
        "    try:\n",
        "        file_name = input(\"읽을 파일 이름을 입력하세요: \")\n",
        "        with open(file_name, 'r') as file:\n",
        "            content = file.read()\n",
        "            print(\"파일 내용:\")\n",
        "            print(content)\n",
        "    except FileNotFoundError:\n",
        "        print(f'\"{file_name}\" 파일을 찾을 수 없습니다.')\n",
        "\n",
        "read_file()"
      ],
      "metadata": {
        "colab": {
          "base_uri": "https://localhost:8080/"
        },
        "id": "I-kJ8Y1tUcBc",
        "outputId": "8fabc7ef-580a-42d9-ef71-aa48d3756345"
      },
      "execution_count": 4,
      "outputs": [
        {
          "output_type": "stream",
          "name": "stdout",
          "text": [
            "읽을 파일 이름을 입력하세요: 디비전\n",
            "\"디비전\" 파일을 찾을 수 없습니다.\n"
          ]
        }
      ]
    },
    {
      "cell_type": "markdown",
      "source": [
        "사용자로부터 여러 개의 숫자를 입력받아 리스트에 저장한 후, 사용자가 'done'이라고 입력할 때까지 계속 입력받으세요.\n",
        "\n",
        "- 입력 중 숫자가 아닌 값이 입력되면 ValueError를 처리\n",
        "- 숫자 외 값이 입력된 경우 어떤 값이 잘못 입력되었는지 사용자에게 알려주는 문구 출력<br>\n",
        "  (예: f\"잘못된 값: {변수}. 숫자를 입력해주세요.\")"
      ],
      "metadata": {
        "id": "Avo-usMpY3yr"
      }
    },
    {
      "cell_type": "code",
      "source": [
        "def input_numbers():\n",
        "    numbers = []\n",
        "    while True:\n",
        "        user_input = input(\"숫자를 입력하세요 (입력을 종료하려면 'done'을 입력하세요): \")\n",
        "        if user_input.lower() == 'done':\n",
        "            break\n",
        "        try:\n",
        "            number = int(user_input)\n",
        "            numbers.append(number)\n",
        "        except ValueError:\n",
        "            print(f\"잘못된 값: {user_input}. 숫자를 입력해주세요.\")\n",
        "    return numbers\n",
        "\n",
        "input_numbers()"
      ],
      "metadata": {
        "colab": {
          "base_uri": "https://localhost:8080/"
        },
        "id": "0wJYUsh8Y6Z-",
        "outputId": "ac447490-1eba-476c-d8dd-0e996c9bafe0"
      },
      "execution_count": 6,
      "outputs": [
        {
          "name": "stdout",
          "output_type": "stream",
          "text": [
            "숫자를 입력하세요 (입력을 종료하려면 'done'을 입력하세요): 273\n",
            "숫자를 입력하세요 (입력을 종료하려면 'done'을 입력하세요): 44\n",
            "숫자를 입력하세요 (입력을 종료하려면 'done'을 입력하세요): 12\n",
            "숫자를 입력하세요 (입력을 종료하려면 'done'을 입력하세요): done\n"
          ]
        },
        {
          "output_type": "execute_result",
          "data": {
            "text/plain": [
              "[273, 44, 12]"
            ]
          },
          "metadata": {},
          "execution_count": 6
        }
      ]
    },
    {
      "cell_type": "markdown",
      "source": [
        "사용자 정의 예외 NegativeNumberError를 생성하고, 사용자로부터 숫자를 입력받아 음수일 경우 NegativeNumberError를 발생시키는 프로그램을 작성하세요.\n",
        "\n",
        "- 예외 처리 구문을 사용하여 음수 입력 시 \"양수를 입력해주세요.\"라는 메시지를 출력"
      ],
      "metadata": {
        "id": "uh8RiBwAZgGR"
      }
    },
    {
      "cell_type": "code",
      "source": [
        "class NegativeNumberError(Exception):\n",
        "    pass\n",
        "\n",
        "def get_number():\n",
        "    try:\n",
        "        input_number = int(input(\"숫자를 입력하세요: \"))\n",
        "        if input_number < 0:\n",
        "            raise NegativeNumberError(\"양수를 입력해주세요.\")\n",
        "        return input_number\n",
        "    except NegativeNumberError as e:\n",
        "        print(e)\n",
        "\n",
        "get_number()"
      ],
      "metadata": {
        "colab": {
          "base_uri": "https://localhost:8080/"
        },
        "id": "-xaUCZc_Zi8L",
        "outputId": "0a6291f5-3d42-44b7-ea17-5c1e6a46739c"
      },
      "execution_count": 8,
      "outputs": [
        {
          "output_type": "stream",
          "name": "stdout",
          "text": [
            "숫자를 입력하세요: -323\n",
            "양수를 입력해주세요.\n"
          ]
        }
      ]
    },
    {
      "cell_type": "markdown",
      "source": [
        "datetime 모듈을 사용하여 현재 날짜와 시간을 출력하는 프로그램을 작성하세요.\n",
        "\n",
        "또한, 사용자로부터 태어난 년도를 입력받아 현재 나이를 계산하여 출력하세요."
      ],
      "metadata": {
        "id": "QVyMQgsWeayR"
      }
    },
    {
      "cell_type": "code",
      "source": [
        "import datetime as dt\n",
        "\n",
        "def get_current_date_time():\n",
        "    now = dt.datetime.now()\n",
        "    output_1 = now.strftime(\"%Y.%m.%d %H:%M:%S\")\n",
        "    return output_1\n",
        "\n",
        "def calculate_age():\n",
        "    birth_year = int(input(\"태어난 년도를 입력하세요: \"))\n",
        "    current_year = dt.datetime.now().year\n",
        "    age = current_year - birth_year\n",
        "    return age\n",
        "\n",
        "get_current_date_time()\n",
        "calculate_age()"
      ],
      "metadata": {
        "colab": {
          "base_uri": "https://localhost:8080/"
        },
        "id": "I4Bl14tJeeaF",
        "outputId": "a872448f-f584-49e4-bb0f-8637260108cd"
      },
      "execution_count": 13,
      "outputs": [
        {
          "name": "stdout",
          "output_type": "stream",
          "text": [
            "태어난 년도를 입력하세요: 1998\n"
          ]
        },
        {
          "output_type": "execute_result",
          "data": {
            "text/plain": [
              "26"
            ]
          },
          "metadata": {},
          "execution_count": 13
        }
      ]
    },
    {
      "cell_type": "markdown",
      "source": [
        "requests 모듈을 사용하여, 웹 페이지의 HTML을 가져오는 간단한 웹 스크레이퍼를 작성하세요.\n",
        "\n",
        "'https://kream.co.kr/'에서<br>\n",
        "데이터를 가져와서 상태 코드와 HTML의 첫 100자를 출력하세요.<br>\n",
        "(실습 전 requests 모듈을 설치해야 함)"
      ],
      "metadata": {
        "id": "Bapn42jqgeeU"
      }
    },
    {
      "cell_type": "code",
      "source": [],
      "metadata": {
        "id": "r5Z9VeBKggzY"
      },
      "execution_count": null,
      "outputs": []
    },
    {
      "cell_type": "markdown",
      "source": [
        "함수 실행 시간을 측정하는 데코레이터 timer_decorator를 작성하세요.\n",
        "\n",
        "임의의 함수가 실행되는 시간을 측정하여 \"함수 실행 시간: x.xx초\" 형태로 출력하세요."
      ],
      "metadata": {
        "id": "u_NxFMW0gnod"
      }
    },
    {
      "cell_type": "code",
      "source": [
        "import time\n",
        "\n",
        "def timer_decorator(func):\n",
        "    def wrapper(*args, **kwargs):\n",
        "        start_time = time.time()\n",
        "        result = func(*args, **kwargs)\n",
        "        end_time = time.time()\n",
        "        execution_time = end_time - start_time\n",
        "        print(f\"종료시간: {execution_time} 초\")\n",
        "        return result\n",
        "    return wrapper\n",
        "\n",
        "@timer_decorator\n",
        "def my_function():\n",
        "    time.sleep(2)\n",
        "\n",
        "my_function()"
      ],
      "metadata": {
        "colab": {
          "base_uri": "https://localhost:8080/"
        },
        "id": "vNeiQPLZgodU",
        "outputId": "68972d58-ade3-4559-c11c-47bc57eebbd5"
      },
      "execution_count": 19,
      "outputs": [
        {
          "output_type": "stream",
          "name": "stdout",
          "text": [
            "종료시간: 2.002117156982422 초\n"
          ]
        }
      ]
    },
    {
      "cell_type": "markdown",
      "source": [
        "여러분이 자주 사용하는 수학적 연산<br>\n",
        "(예: 삼각형 넓이, 원의 넓이, 직육면체의 넓이)을 수행하는 함수들을 포함하는 mymath.py라는 이름의 모듈을 만드세요.\n",
        "\n",
        "이 모듈을 사용하여 작성된 함수들을 실제로 임포트하고 사용하는 간단한 프로그램을 작성하세요."
      ],
      "metadata": {
        "id": "JkUMDBEohasQ"
      }
    },
    {
      "cell_type": "code",
      "source": [],
      "metadata": {
        "id": "mztIPLDvhdRf"
      },
      "execution_count": null,
      "outputs": []
    },
    {
      "cell_type": "markdown",
      "source": [
        "animals라는 패키지를 만들고, 이 패키지 내에 mammals, birds라는 두 개의 서브 모듈을 생성하세요.\n",
        "\n",
        "- 각 모듈에는 최소한 한 개 이상의 동물에 관한 클래스를 정의하세요<br>\n",
        "  (예: mammals에는 Dog, birds에는 Eagle)\n",
        "- 이 패키지와 모듈을 사용하여 동물들의 정보를 출력하는 프로그램을 작성\n",
        "\n",
        "폴더 및 파일 구조\n",
        "```\n",
        "animals/(폴더)\n",
        "├── __init__.py\n",
        "├── mammals.py\n",
        "└── birds.py\n",
        "```"
      ],
      "metadata": {
        "id": "pUItHw9Nhg61"
      }
    },
    {
      "cell_type": "code",
      "source": [],
      "metadata": {
        "id": "T7aBod1ohmES"
      },
      "execution_count": null,
      "outputs": []
    }
  ]
}