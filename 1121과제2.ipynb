{
  "cells": [
    {
      "cell_type": "markdown",
      "metadata": {
        "id": "qhvBge80LMUx"
      },
      "source": [
        "#### 프로젝트: 붕어빵 자동 판매 시스템\n",
        "\n",
        "\n",
        "당신은 붕어빵 가게의 주인입니다.\n",
        "\n",
        "손님들이 붕어빵을 주문하면 이를 자동으로 처리하고, 재고를 관리하는 시스템을 만들고자 합니다.\n",
        "\n",
        "또한, 관리자 모드를 통해 재고를 추가할 수 있는 기능을 구현해야 합니다.\n"
      ]
    },
    {
      "cell_type": "markdown",
      "metadata": {
        "id": "DTn8xdg1LMUy"
      },
      "source": [
        "__[문제 1: 붕어빵 재고 확인]__\n",
        "\n",
        "붕어빵 가게의 현재 재고를 확인하는 기능을 구현하세요.\n",
        "\n",
        "요구사항:\n",
        "- 현재 붕어빵의 재고를 딕셔너리로 관리합니다.\n",
        "- 딕셔너리에는 붕어빵의 종류와 각각의 재고 개수가 저장됩니다.\n",
        "- 현재 재고를 화면에 출력하세요.\n",
        "\n",
        "붕어빵 재고\n",
        "- 팥붕어빵 : 10개\n",
        "- 슈크림붕어빵 : 8개\n",
        "- 초코붕어빵 : 5개"
      ]
    },
    {
      "cell_type": "code",
      "execution_count": null,
      "metadata": {
        "colab": {
          "base_uri": "https://localhost:8080/"
        },
        "id": "w7hF4CN2LMUy",
        "outputId": "38c54eb4-d0e6-443e-e24d-01ff7183f1da"
      },
      "outputs": [
        {
          "output_type": "stream",
          "name": "stdout",
          "text": [
            "붕어빵의 종류를 입력해주세요.:팥붕어빵\n",
            "\"팥붕어빵이(가) 10개 남았습니다.\n"
          ]
        }
      ],
      "source": [
        "stock = {\"팥붕어빵\":10, \"슈크림붕어빵\":8, \"초코붕어빵\":5}\n",
        "boong_bread = input(\"붕어빵의 종류를 입력해주세요.:\")\n",
        "print(f'\"{boong_bread}이(가) {stock[boong_bread]}개 남았습니다.')"
      ]
    },
    {
      "cell_type": "markdown",
      "metadata": {
        "id": "-j0A-qfELMUy"
      },
      "source": [
        "__[문제 2: 붕어빵 주문 받기]__\n",
        "\n",
        "손님이 주문한 붕어빵의 종류와 개수를 입력받는 기능을 구현하세요.\n",
        "\n",
        "요구사항:\n",
        "- 손님이 주문할 붕어빵의 종류와 개수를 입력받습니다.\n",
        "- 주문 내용을 딕셔너리에 저장하세요.\n",
        "- 주문 내역을 출력해주세요."
      ]
    },
    {
      "cell_type": "code",
      "execution_count": null,
      "metadata": {
        "colab": {
          "base_uri": "https://localhost:8080/"
        },
        "id": "wqTR4UhkLMUy",
        "outputId": "1f16bf9d-caf5-4c3e-c9ca-7ba51409cd73"
      },
      "outputs": [
        {
          "output_type": "stream",
          "name": "stdout",
          "text": [
            "맛을 입력해주세요.:팥붕어빵\n",
            "개수를 입력해주세요.:10\n",
            "{'붕어빵': '팥붕어빵', '개수': 10}\n"
          ]
        }
      ],
      "source": [
        "fish_bread = input(\"맛을 입력해주세요.:\")\n",
        "fish_bread_num = int(input(\"개수를 입력해주세요.:\"))\n",
        "\n",
        "dict_fish_bread = {\"붕어빵\":fish_bread, \"개수\":fish_bread_num}\n",
        "print(dict_fish_bread)"
      ]
    },
    {
      "cell_type": "markdown",
      "metadata": {
        "id": "3Vk0CBm7LMUy"
      },
      "source": [
        "__[문제 3: 붕어빵 주문 처리]__\n",
        "\n",
        "손님의 주문을 처리하여 붕어빵 재고를 업데이트하는 기능을 구현하세요.\n",
        "\n",
        "요구사항:\n",
        "- 손님의 주문 내용을 기반으로 재고를 업데이트합니다.\n",
        "- 재고가 부족할 경우, 손님에게 재고 부족을 알리고 재고를 감소시키지 않습니다.\n",
        "- 재고가 충분할 경우, 주문한 만큼 재고를 감소시키고 판매를 완료합니다.\n",
        "- 판매가 완료된 경우 판매된 붕어빵 맛과 개수를 출력하세요."
      ]
    },
    {
      "cell_type": "code",
      "execution_count": null,
      "metadata": {
        "id": "5SMHWTAFLMUy",
        "colab": {
          "base_uri": "https://localhost:8080/"
        },
        "outputId": "537d1100-ccc5-4210-b514-7389f4504c46"
      },
      "outputs": [
        {
          "output_type": "stream",
          "name": "stdout",
          "text": [
            "맛을 입력해주세요.:팥붕어빵\n",
            "개수를 입력해주세요.:5\n",
            "팥붕어빵 5개가 판매되었습니다.\n"
          ]
        }
      ],
      "source": [
        "fish_bread = input(\"맛을 입력해주세요.:\")\n",
        "fish_bread_num = int(input(\"개수를 입력해주세요.:\"))\n",
        "\n",
        "dict_fish_bread = {\"붕어빵\":fish_bread, \"개수\":fish_bread_num}\n",
        "\n",
        "if stock[fish_bread] < fish_bread_num:\n",
        "    print(\"재고가 부족합니다.\")\n",
        "else:\n",
        "    stock[fish_bread] -= fish_bread_num\n",
        "    print(f\"{fish_bread} {fish_bread_num}개가 판매되었습니다.\")"
      ]
    },
    {
      "cell_type": "markdown",
      "metadata": {
        "id": "-BD87WqZLMUy"
      },
      "source": [
        "__[문제 4: 여러 손님 주문 처리]__\n",
        "\n",
        "여러 손님들의 주문을 처리할 수 있도록 시스템을 확장하세요.\n",
        "\n",
        "요구사항:\n",
        "- 손님이 \"종료\"를 입력할 때까지 주문을 계속 받습니다.\n",
        "- 각 주문마다 재고를 업데이트합니다.\n",
        "- 현재 재고를 화면에 출력합니다."
      ]
    },
    {
      "cell_type": "code",
      "execution_count": null,
      "metadata": {
        "id": "zA0u0dgBLMUz",
        "colab": {
          "base_uri": "https://localhost:8080/"
        },
        "outputId": "d27f611f-8d49-4739-a620-080b41c5fb3f"
      },
      "outputs": [
        {
          "output_type": "stream",
          "name": "stdout",
          "text": [
            "맛을 입력해주세요.:초코붕어빵\n",
            "개수를 입력해주세요.:5\n",
            "초코붕어빵 5개가 판매되었습니다.\n",
            "0개가 남았습니다.\n",
            "계속하려면 '1', 종료하려면 '2'를 입력하세요: 1\n",
            "맛을 입력해주세요.:초코붕어빵\n",
            "개수를 입력해주세요.:3\n",
            "재고가 부족합니다.\n",
            "계속하려면 '1', 종료하려면 '2'를 입력하세요: 2\n",
            "주문을 종료합니다.\n"
          ]
        }
      ],
      "source": [
        "stock = {\"팥붕어빵\":10, \"슈크림붕어빵\":8, \"초코붕어빵\":5}\n",
        "\n",
        "# 붕어빵 종류와 갯수를 입력하기 전 초기화\n",
        "fish_bread = \"\"\n",
        "fish_bread_num = 0\n",
        "\n",
        "while True:\n",
        "    fish_bread = input(\"맛을 입력해주세요.:\")\n",
        "    fish_bread_num = int(input(\"개수를 입력해주세요.:\"))\n",
        "    if fish_bread in stock:\n",
        "        if stock[fish_bread] < fish_bread_num:\n",
        "            print(\"재고가 부족합니다.\")\n",
        "        else:\n",
        "            stock[fish_bread] -= fish_bread_num\n",
        "            boong = stock[fish_bread]\n",
        "            print(f\"{fish_bread} {fish_bread_num}개가 판매되었습니다.\")\n",
        "            print(f'{boong}개가 남았습니다.')\n",
        "    else:\n",
        "        print(\"잘못된 맛을 입력했습니다. 다시 입력해주세요.\")\n",
        "    response = input(\"계속하려면 '1', 종료하려면 '2'를 입력하세요: \")\n",
        "    if response == '2':\n",
        "        print(\"주문을 종료합니다.\")\n",
        "        break\n",
        "    elif response != '1':\n",
        "        print(\"잘못된 입력입니다. 다시 입력해주세요.\")\n"
      ]
    },
    {
      "cell_type": "markdown",
      "metadata": {
        "id": "mF6Ie7InLMUz"
      },
      "source": [
        "__[문제 5: 관리자 모드]__\n",
        "\n",
        "관리자 모드를 통해 붕어빵 재고를 추가할 수 있는 기능을 구현하세요.\n",
        "\n",
        "요구사항:\n",
        "- 관리자는 특정 붕어빵의 재고를 추가할 수 있습니다.\n",
        "- \"종료\"를 입력하면 관리자 모드를 종료합니다.\n",
        "- 추가된 재고를 업데이트하고 현재 재고를 화면에 출력합니다."
      ]
    },
    {
      "cell_type": "code",
      "execution_count": null,
      "metadata": {
        "id": "wGaTBFDrLMUz",
        "colab": {
          "base_uri": "https://localhost:8080/"
        },
        "outputId": "17775922-5c42-4c8b-effc-6aedf349ddf2"
      },
      "outputs": [
        {
          "output_type": "stream",
          "name": "stdout",
          "text": [
            "맛을 입력해주세요.:초코붕어빵\n",
            "개수를 입력해주세요.:3\n",
            "8개가 남았습니다.\n",
            "계속하려면 '1', 종료하려면 '2'를 입력하세요: 2\n",
            "재고 추가를 종료합니다.\n"
          ]
        }
      ],
      "source": [
        "stock = {\"팥붕어빵\":10, \"슈크림붕어빵\":8, \"초코붕어빵\":5}\n",
        "\n",
        "fish_bread = \"\"\n",
        "fish_bread_num = 0\n",
        "\n",
        "while True:\n",
        "    fish_bread = input(\"맛을 입력해주세요.:\")\n",
        "    fish_bread_num = int(input(\"개수를 입력해주세요.:\"))\n",
        "    stock[fish_bread] += fish_bread_num\n",
        "    print(f'{stock[fish_bread]}개가 남았습니다.')\n",
        "    response = input(\"계속하려면 '1', 종료하려면 '2'를 입력하세요: \")\n",
        "    if response == '2':\n",
        "        print(\"재고 추가를 종료합니다.\")\n",
        "        break"
      ]
    },
    {
      "cell_type": "markdown",
      "metadata": {
        "id": "xZP-v78KLMUz"
      },
      "source": [
        "__[문제 6: 매출 확인]__\n",
        "\n",
        "붕어빵 판매 가격을 설정하고, 판매한 붕어빵의 매출을 계산하세요.\n",
        "\n",
        "요구사항:\n",
        "- 각 붕어빵의 가격을 딕셔너리로 관리합니다.\n",
        "- 판매된 붕어빵의 종류와 개수를 딕셔너리로 관리합니다.\n",
        "- 총 매출을 계산하여 출력합니다.\n",
        "\n",
        "초기 설정:\n",
        "- 가격\n",
        "    - \"팥붕어빵\": 1000\n",
        "    - \"슈크림붕어빵\": 1200\n",
        "    - \"초코붕어빵\": 1500\n",
        "\n",
        "- 판매 개수\n",
        "    - \"팥붕어빵\": 0\n",
        "    - \"슈크림붕어빵\": 0\n",
        "    - \"초코붕어빵\": 0"
      ]
    },
    {
      "cell_type": "code",
      "execution_count": null,
      "metadata": {
        "id": "1OkJ7kzCLMUz",
        "colab": {
          "base_uri": "https://localhost:8080/"
        },
        "outputId": "7359ebfd-bcf5-44a2-91cb-5d0aa688c1c8"
      },
      "outputs": [
        {
          "output_type": "stream",
          "name": "stdout",
          "text": [
            "붕어빵의 종류를 입력해주세요.:초코붕어빵\n",
            "개수를 입력해주세요.:5\n",
            "초코붕어빵이(가) 5개 판매되었습니다. 총 매출은 7500원 입니다.\n"
          ]
        }
      ],
      "source": [
        "#가격설정\n",
        "price = {\n",
        "    \"팥붕어빵\":1000,\n",
        "    \"슈크림붕어빵\":1200,\n",
        "    \"초코붕어빵\":1500\n",
        "}\n",
        "#판매량 설정\n",
        "sales = {\n",
        "    \"팥붕어빵\": 0,\n",
        "    \"슈크림붕어빵\": 0,\n",
        "    \"초코붕어빵\": 0\n",
        "}\n",
        "\n",
        "sort_boong = input(\"붕어빵의 종류를 입력해주세요.:\")\n",
        "num_boong = input(\"개수를 입력해주세요.:\")\n",
        "sales[sort_boong] = int(num_boong)\n",
        "print(f'{sort_boong}이(가) {num_boong}개 판매되었습니다. 총 매출은 {price[sort_boong]*int(num_boong)}원 입니다.')\n",
        "\n",
        "\n"
      ]
    }
  ],
  "metadata": {
    "colab": {
      "provenance": []
    },
    "kernelspec": {
      "display_name": "Python 3",
      "name": "python3"
    },
    "language_info": {
      "codemirror_mode": {
        "name": "ipython",
        "version": 3
      },
      "file_extension": ".py",
      "mimetype": "text/x-python",
      "name": "python",
      "nbconvert_exporter": "python",
      "pygments_lexer": "ipython3",
      "version": "3.11.7"
    }
  },
  "nbformat": 4,
  "nbformat_minor": 0
}