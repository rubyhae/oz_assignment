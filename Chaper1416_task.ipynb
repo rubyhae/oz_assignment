    {
      "cell_type": "markdown",
      "metadata": {
        "id": "7kQJMRuFu-6s"
      },
      "source": [
        "__[문제1]__\n",
        "\n",
        "주어진 정수 x와 자연수 n을 이용해, x부터 시작해 x씩 증가하는 숫자를 n개 지니는 리스트를 출력해주세요   \n",
        "<br>\n",
        "\n",
        "x = 2, n =5"
      ]
    },
    {
      "cell_type": "code",
      "execution_count": 3,
      "metadata": {
        "id": "juUF2KYbu0DX",
        "colab": {
          "base_uri": "https://localhost:8080/"
        },
        "outputId": "8da41c33-b0f6-44e1-fc43-e18dc1a44acc"
      },
      "outputs": [
        {
          "output_type": "execute_result",
          "data": {
            "text/plain": [
              "[2, 4, 6, 8, 10]"
            ]
          },
          "metadata": {},
          "execution_count": 3
        }
      ],
      "source": [
        "x = 2\n",
        "n = 5\n",
        "[i * x for i in range(1, n+1)]"
      ]
    },
    {
      "cell_type": "markdown",
      "metadata": {
        "id": "qNyTF7jbfyD1"
      },
      "source": [
        "---"
      ]
    },
    {
      "cell_type": "markdown",
      "metadata": {
        "id": "4BPXMLXUvBVL"
      },
      "source": [
        "__[문제2]__\n",
        "\n",
        "전화번호가 문자열 phone_number로 주어졌을 때, 전화번호의 뒷 4자리를 *으로 가린 문자열이 출력되도록 코드를 작성해주세요\n",
        "\n",
        "phone_number = \"01012347890\"  \n",
        "<br>\n",
        "\n",
        "출력 예) \"0101234****\""
      ]
    },
    {
      "cell_type": "code",
      "execution_count": 8,
      "metadata": {
        "id": "P0fY7CYUvC_j",
        "colab": {
          "base_uri": "https://localhost:8080/"
        },
        "outputId": "526ade2a-8332-4ef9-e887-1485316614b3"
      },
      "outputs": [
        {
          "output_type": "stream",
          "name": "stdout",
          "text": [
            "0101234****\n"
          ]
        }
      ],
      "source": [
        "phone_number = \"01012347890\"\n",
        "new_number = phone_number[:-4] + \"****\"\n",
        "print(new_number)"
      ]
    },
    {
      "cell_type": "markdown",
      "metadata": {
        "id": "lQE9_N0AfyD1"
      },
      "source": [
        "---"
      ]
    },
    {
      "cell_type": "markdown",
      "metadata": {
        "id": "uUdOU9cFvDsq"
      },
      "source": [
        "__[문제3]__\n",
        "\n",
        "숫자를 건넬 때 일부 자릿수를 영단어로 바꾼 카드를 건네주면 프로도는 원래 숫자를 찾는 게임입니다.\n",
        "\n",
        "다음은 숫자의 일부 자릿수를 영단어로 바꾸는 예시입니다.\n",
        "\n",
        "1478 → \"one4seveneight\"  \n",
        "234567 → \"23four5six7\"  \n",
        "10203 → \"1zerotwozero3\"    \n",
        "\n",
        "이렇게 숫자의 일부 자릿수가 영단어로 바뀌어졌거나,   \n",
        "혹은 바뀌지 않고 그대로인 문자열 s가 주어졌을때\n",
        "s가 의미하는 원래 숫자를 출력하도록 코드를 작성해주세요\n",
        "\n",
        "s = \"77three4one\n",
        "\n",
        "---\n",
        "참고로 각 숫자에 대응되는 영단어는 다음 표와 같습니다.\n",
        "\n",
        "숫자\t영단어  \n",
        "0\tzero  \n",
        "1\tone  \n",
        "2\ttwo  \n",
        "3\tthree  \n",
        "4\tfour  \n",
        "5\tfive  \n",
        "6\tsix  \n",
        "7\tseven  \n",
        "8\teight  \n",
        "9\tnine  "
      ]
    },
    {
      "cell_type": "code",
      "execution_count": 19,
      "metadata": {
        "id": "2NmqRFgDvFtz",
        "colab": {
          "base_uri": "https://localhost:8080/"
        },
        "outputId": "a78e12dc-2736-4607-c423-79edd6407e0b"
      },
      "outputs": [
        {
          "output_type": "stream",
          "name": "stdout",
          "text": [
            "77341\n"
          ]
        }
      ],
      "source": [
        "num_dict = {\n",
        "    \"0\": \"zero\",\n",
        "    \"1\": \"one\",\n",
        "    \"2\": \"two\",\n",
        "    \"3\": \"three\",\n",
        "    \"4\": \"four\",\n",
        "    \"5\": \"five\",\n",
        "    \"6\": \"six\",\n",
        "    \"7\": \"seven\",\n",
        "    \"8\": \"eight\",\n",
        "    \"9\": \"nine\"\n",
        "}\n",
        "\n",
        "s = \"77three4one\"\n",
        "\n",
        "for key, value in num_dict.items():\n",
        "    s = s.replace(value, key)\n",
        "\n",
        "print(s)\n",
        "\n"
      ]
    },
    {
      "cell_type": "markdown",
      "metadata": {
        "id": "8YOvChwzfyD2"
      },
      "source": [
        "---"
      ]
    },
    {
      "cell_type": "markdown",
      "metadata": {
        "id": "J0Tha6AdvGL3"
      },
      "source": [
        "__[문제4]__\n",
        "\n",
        "행렬의 덧셈은 행과 열의 크기가 같은 두 행렬의 같은 행, 같은 열의 값을 서로 더한 결과가 됩니다.\n",
        "\n",
        " 행렬 arr1과 arr2가 주어졌을 때, 행렬 덧셈의 결과를 출력하는 코드를 작성해주세요(result와 같은 결과가 출력되도록 작성)\n",
        "\n",
        "arr1 = [[1,2],[2,3]]\n",
        "\n",
        "arr2 = [[3,4],[5,6]]\n",
        "\n",
        "result = [[4,6],[7,9]]"
      ]
    },
    {
      "cell_type": "code",
      "execution_count": 23,
      "metadata": {
        "id": "ujiXrEhJvIV0",
        "colab": {
          "base_uri": "https://localhost:8080/"
        },
        "outputId": "0bb53aa1-6eaa-4fbe-d9a4-44e1596eaec9"
      },
      "outputs": [
        {
          "output_type": "stream",
          "name": "stdout",
          "text": [
            "[[4, 6], [7, 9]]\n",
            "<zip object at 0x7c1f2436dfc0>\n",
            "[([1, 2], [3, 4]), ([2, 3], [5, 6])]\n"
          ]
        }
      ],
      "source": [
        "arr1 = [[1,2],[2,3]]\n",
        "\n",
        "arr2 = [[3,4],[5,6]]\n",
        "\n",
        "result = [[c + d for c, d in zip(a, b)] for a, b in zip(arr1, arr2)]\n",
        "\n",
        "print(result)\n",
        "\n",
        "print(zip(arr1, arr2))\n",
        "print(list(zip(arr1, arr2)))"
      ]
    },
    {
      "cell_type": "markdown",
      "metadata": {
        "id": "4fLzHDI8fyD2"
      },
      "source": [
        "---"
      ]
    },
    {
      "cell_type": "markdown",
      "metadata": {
        "id": "eLdrWVkavJEN"
      },
      "source": [
        "__[문제5]__\n",
        "\n",
        "양의 정수 x가 하샤드 수이려면 x의 자릿수의 합으로 x가 나누어져야 합니다.   \n",
        "예를 들어 18의 자릿수 합은 1+8=9이고, 18은 9로 나누어 떨어지므로 18은 하샤드 수입니다.   \n",
        "주어진 x를 이용해 x가 하샤드 수인지 아닌지 검사하는 코드를 작성해주세요\n",
        "\n",
        "x = 17\n",
        "\n",
        "----\n",
        "\n",
        "입출력 예시\n",
        "x\t결과값  \n",
        "10\ttrue  \n",
        "12\ttrue  \n",
        "11\tfalse  \n",
        "13\tfalse  "
      ]
    },
    {
      "cell_type": "code",
      "execution_count": 27,
      "metadata": {
        "id": "EULD-IOrvKmG",
        "colab": {
          "base_uri": "https://localhost:8080/"
        },
        "outputId": "074423d9-b363-4837-cc10-9fd40ee1e68d"
      },
      "outputs": [
        {
          "output_type": "stream",
          "name": "stdout",
          "text": [
            "False\n"
          ]
        }
      ],
      "source": [
        "x = 17\n",
        "num_list = list(map(int,str(x)))\n",
        "result = x % sum(num_list) == 0\n",
        "print(result)"
      ]
    },
    {
      "cell_type": "markdown",
      "metadata": {
        "id": "0Oe6QycDfyD2"
      },
      "source": [
        "---"
      ]
    },
    {
      "cell_type": "markdown",
      "metadata": {
        "id": "GeS6hZhivLMZ"
      },
      "source": [
        "__[문제6]__\n",
        "\n",
        "String형 배열 seoul의 element중 \"Kim\"의 인덱스 x를 찾아, \"김서방은 x에 있다\"는 String을 출력하는 코드를 작성해주세요.   \n",
        "\n",
        "seoul에 \"Kim\"은 오직 한 번만 나타나며 잘못된 값이 입력되는 경우는 없습니다.\n",
        "\n",
        "seoul = [\"Jane\", \"Kim\"]\n",
        "\n",
        "<br>\n",
        "출력 예) \"김서방은 1에 있다\""
      ]
    },
    {
      "cell_type": "code",
      "execution_count": 28,
      "metadata": {
        "id": "e4LXat3BvRRg",
        "colab": {
          "base_uri": "https://localhost:8080/"
        },
        "outputId": "44d75a54-0ddb-491c-c2a2-5814acaf8970"
      },
      "outputs": [
        {
          "output_type": "stream",
          "name": "stdout",
          "text": [
            "김서방은 1에 있다\n"
          ]
        }
      ],
      "source": [
        "seoul = [\"Jane\", \"Kim\"]\n",
        "x = seoul.index(\"Kim\")\n",
        "print(f\"김서방은 {x}에 있다\")"
      ]
    },
    {
      "cell_type": "markdown",
      "metadata": {
        "id": "XvxFKadPfyD2"
      },
      "source": [
        "---"
      ]
    },
    {
      "cell_type": "markdown",
      "metadata": {
        "id": "iZjKl-ZqvOkm"
      },
      "source": [
        "__[문제7]__\n",
        "\n",
        "0부터 9까지의 숫자 중 일부가 들어있는 정수 배열 numbers가 주어집니다.   \n",
        "numbers에서 찾을 수 없는 0부터 9까지의 숫자를 모두 찾아 더한 수를 출력해주세요\n",
        "\n",
        "numbers = [5,8,1,0,6,9]"
      ]
    },
    {
      "cell_type": "code",
      "execution_count": 29,
      "metadata": {
        "id": "598DAkIHvQav",
        "colab": {
          "base_uri": "https://localhost:8080/"
        },
        "outputId": "dea565e2-5fff-4876-e697-bde455c71520"
      },
      "outputs": [
        {
          "output_type": "execute_result",
          "data": {
            "text/plain": [
              "16"
            ]
          },
          "metadata": {},
          "execution_count": 29
        }
      ],
      "source": [
        "numbers = [5,8,1,0,6,9]\n",
        "sum([i for i in range(10) if i not in numbers])"
      ]
    }
  ],
  "metadata": {
    "colab": {
      "provenance": [],
      "include_colab_link": true
    },
    "kernelspec": {
      "display_name": "Python 3",
      "name": "python3"
    },
    "language_info": {
      "codemirror_mode": {
        "name": "ipython",
        "version": 3
      },
      "file_extension": ".py",
      "mimetype": "text/x-python",
      "name": "python",
      "nbconvert_exporter": "python",
      "pygments_lexer": "ipython3",
      "version": "3.11.7"
    }
  },
  "nbformat": 4,
  "nbformat_minor": 0
}
